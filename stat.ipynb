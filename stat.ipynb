{
 "cells": [
  {
   "cell_type": "code",
   "execution_count": 74,
   "metadata": {},
   "outputs": [],
   "source": [
    "import openreview\n",
    "import numpy as np\n",
    "import pandas as pd\n",
    "from tqdm.notebook import tqdm\n",
    "import os\n",
    "from collections import defaultdict\n"
   ]
  },
  {
   "cell_type": "code",
   "execution_count": 32,
   "metadata": {},
   "outputs": [],
   "source": [
    "client = openreview.api.OpenReviewClient(\n",
    "    baseurl='https://api2.openreview.net',\n",
    ")"
   ]
  },
  {
   "cell_type": "code",
   "execution_count": 33,
   "metadata": {},
   "outputs": [
    {
     "name": "stderr",
     "output_type": "stream",
     "text": [
      "Getting V2 Notes: 100%|█████████▉| 2018/2021 [00:04<00:00, 410.89it/s]\n"
     ]
    }
   ],
   "source": [
    "submissions_emnlp = client.get_all_notes(invitation='EMNLP/2023/Conference/-/Submission', details='directReplies')"
   ]
  },
  {
   "cell_type": "code",
   "execution_count": 165,
   "metadata": {},
   "outputs": [],
   "source": [
    "def get_review(meta):\n",
    "    reviews_meta = {\n",
    "        \"Soundness\" : [],\n",
    "        \"Excitement\" : [],\n",
    "        \"Reproducibility\" : [],\n",
    "        \"Recommendation\" : None,\n",
    "        \"Recommendation_for_Best_Paper_Award\" : None,\n",
    "        \"Decision\" : None\n",
    "    }\n",
    "    details = meta.details[\"directReplies\"]\n",
    "    general_reviews = []\n",
    "    meta_review = None \n",
    "    decision_review = None\n",
    "    for detail in details:\n",
    "        detail = detail['content']\n",
    "        if 'decision' in detail:\n",
    "            decision_review = detail\n",
    "        elif 'metareview' in detail:\n",
    "            meta_review = detail\n",
    "        else:\n",
    "            general_reviews.append(detail)\n",
    "\n",
    "    # general_reviews = details[:-2]\n",
    "    # meta_review = details[-2]['content']\n",
    "    # decision_review = details[-1]['content']\n",
    "    for gr in general_reviews:\n",
    "        soundness = gr['Soundness']['value'][0]\n",
    "        excitement = gr['Excitement']['value'][0]\n",
    "        reproducibility = gr['Reproducibility']['value'][0]\n",
    "        reviews_meta['Soundness'].append(soundness)\n",
    "        reviews_meta['Excitement'].append(excitement)\n",
    "        reviews_meta['Reproducibility'].append(reproducibility)\n",
    "    reviews_meta['Decision'] = decision_review[\"decision\"][\"value\"]\n",
    "    reviews_meta['Recommendation'] = meta_review[\"recommendation\"][\"value\"]\n",
    "    reviews_meta['Recommendation_for_Best_Paper_Award'] = meta_review[\"Recommendation_for_Best_Paper_Award\"][\"value\"] if \"Recommendation_for_Best_Paper_Award\" in meta_review else None\n",
    "    return reviews_meta\n",
    "\n",
    "    "
   ]
  },
  {
   "cell_type": "code",
   "execution_count": 200,
   "metadata": {},
   "outputs": [
    {
     "data": {
      "application/vnd.jupyter.widget-view+json": {
       "model_id": "14e873bb124e454984361c68f76db2e5",
       "version_major": 2,
       "version_minor": 0
      },
      "text/plain": [
       "  0%|          | 0/2021 [00:00<?, ?it/s]"
      ]
     },
     "metadata": {},
     "output_type": "display_data"
    },
    {
     "name": "stdout",
     "output_type": "stream",
     "text": [
      "449\n",
      "557\n"
     ]
    }
   ],
   "source": [
    "all_paper_types = defaultdict(int)\n",
    "all_track = set()\n",
    "all_venue = defaultdict(int)\n",
    "meta_datas = []\n",
    "for i, submission in enumerate(tqdm(submissions_emnlp)):\n",
    "    number = submission.number\n",
    "    content = submission.content\n",
    "    title = content['title']['value'] #str\n",
    "    authors = content['authors']['value'] #list[str]\n",
    "    keywords = content['keywords']['value'] #list[str]\n",
    "    abstract = content['abstract']['value'] #str\n",
    "    paper_type = content['Submission_Type']['value'] #str\n",
    "    track1 = content['Submission_Track']['value']\n",
    "    track2 = None if 'Submission_Track_2' not in content else content['Submission_Track_2']['value']\n",
    "    venue = content['venue']['value']\n",
    "    \n",
    "    all_paper_types[paper_type] += 1\n",
    "    all_venue[venue] += 1\n",
    "    try:\n",
    "        reviews_meta = get_review(submission)\n",
    "        avg_s = np.mean([float(i) for i in reviews_meta[\"Soundness\"]])\n",
    "        avg_e = np.mean([float(i) for i in reviews_meta[\"Excitement\"]])\n",
    "    except Exception as e:\n",
    "        print(i)\n",
    "\n",
    "    meta_datas.append({\n",
    "        \"Submission Number\" : number,\n",
    "        \"Title\" : title,\n",
    "        \"Authors\" : ', '.join(authors),\n",
    "        \"Track\" : track1,\n",
    "        \"Submission Type\" : paper_type,\n",
    "        \"Venue\" : venue,\n",
    "        \"Soundness\" : ', '.join(reviews_meta[\"Soundness\"]),\n",
    "        \"Excitement\" : ', '.join(reviews_meta[\"Excitement\"]),\n",
    "        \"Reproducibility\" : ', '.join(reviews_meta[\"Reproducibility\"]),\n",
    "        \"Mean-SE\" : f\"{avg_s:.2f}, {avg_e:.2f}\",\n",
    "        \"Meta-review\" : reviews_meta['Recommendation'],\n",
    "        \"Abstract\" : abstract,\n",
    "        \"Keywords\" : ', '.join(keywords),\n",
    "        \"Track-2\" : track2\n",
    "\n",
    "    })\n",
    "    \n",
    "meta_datas = sorted(meta_datas, key=lambda x:(x[\"Track\"], x[\"Submission Type\"], x[\"Venue\"]))\n",
    "table_datas = []\n",
    "for data in meta_datas:\n",
    "    table_datas.append([\n",
    "        data[\"Submission Number\"],\n",
    "        data[\"Title\"], \n",
    "        data['Authors'],\n",
    "        data[\"Track\"],\n",
    "        data[\"Submission Type\"],\n",
    "        data[\"Venue\"],\n",
    "        data[\"Soundness\"], data[\"Excitement\"], data[\"Reproducibility\"], data[\"Mean-SE\"],\n",
    "        data[\"Meta-review\"], data['Abstract'], data['Keywords'], data[\"Track-2\"]\n",
    "    ])\n"
   ]
  },
  {
   "cell_type": "code",
   "execution_count": 201,
   "metadata": {},
   "outputs": [],
   "source": [
    "df = pd.DataFrame(table_datas, columns=[\"Submission Number\", \"Title\", \"Authors\", \"Track\", \"Submission Type\", \"Venue\", \"Soundness\", \"Excitement\", \"Reproducibility\", \\\n",
    "        \"Mean-SE\", \"Meta-review\", \"Abstract\", \"Keywords\", \"Track-2\"])\n",
    "df.to_excel('EMNLP-2023-accept-papers.xlsx', index=False)"
   ]
  },
  {
   "cell_type": "code",
   "execution_count": 210,
   "metadata": {},
   "outputs": [
    {
     "name": "stdout",
     "output_type": "stream",
     "text": [
      "Statistics of Accepted Papers\n",
      "Main Conference:\n",
      "\t Mean Soundness: 3.66\n",
      "\t Mean Excitement: 3.57\n",
      "\t Std Soundeness: 0.39\n",
      "\t Std Excitement: 0.37\n",
      "Findings:\n",
      "\t Mean Soundness: 3.23\n",
      "\t Mean Excitement: 3.16\n",
      "\t Std Soundeness: 0.35\n",
      "\t Std Excitement: 0.35\n"
     ]
    }
   ],
   "source": [
    "main_s = []\n",
    "main_e = []\n",
    "findings_s = []\n",
    "findings_e = []\n",
    "for data in table_datas:\n",
    "    mse = data[-5].split(', ')\n",
    "    soundness = float(mse[0])\n",
    "    excitement = float(mse[1])\n",
    "    if data[-9] == 'EMNLP 2023 Findings':\n",
    "        findings_e.append(excitement)\n",
    "        findings_s.append(soundness)\n",
    "    elif data[-9] == 'EMNLP 2023 Main':\n",
    "        main_s.append(soundness)\n",
    "        main_e.append(excitement)\n",
    "print(f\"\"\"Statistics of Accepted Papers\n",
    "Main Conference:\n",
    "\\t Mean Soundness: {np.mean(main_s):.2f}\n",
    "\\t Mean Excitement: {np.mean(main_e):.2f}\n",
    "\\t Std Soundeness: {np.std(main_s):.2f}\n",
    "\\t Std Excitement: {np.std(main_e):.2f}\n",
    "Findings:\n",
    "\\t Mean Soundness: {np.mean(findings_s):.2f}\n",
    "\\t Mean Excitement: {np.mean(findings_e):.2f}\n",
    "\\t Std Soundeness: {np.std(findings_s):.2f}\n",
    "\\t Std Excitement: {np.std(findings_e):.2f}\"\"\")"
   ]
  },
  {
   "cell_type": "code",
   "execution_count": null,
   "metadata": {},
   "outputs": [],
   "source": []
  }
 ],
 "metadata": {
  "kernelspec": {
   "display_name": "base",
   "language": "python",
   "name": "python3"
  },
  "language_info": {
   "codemirror_mode": {
    "name": "ipython",
    "version": 3
   },
   "file_extension": ".py",
   "mimetype": "text/x-python",
   "name": "python",
   "nbconvert_exporter": "python",
   "pygments_lexer": "ipython3",
   "version": "3.9.12"
  }
 },
 "nbformat": 4,
 "nbformat_minor": 2
}
